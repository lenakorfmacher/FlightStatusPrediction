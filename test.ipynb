{
 "cells": [
  {
   "cell_type": "code",
   "execution_count": 1,
   "metadata": {},
   "outputs": [
    {
     "name": "stdout",
     "output_type": "stream",
     "text": [
      "['num__age' 'num__income' 'cat__gender_female' 'cat__gender_male'\n",
      " 'cat__occupation_engineer' 'cat__occupation_teacher']\n"
     ]
    },
    {
     "name": "stderr",
     "output_type": "stream",
     "text": [
      "/Users/lk/anaconda3/lib/python3.11/site-packages/sklearn/feature_selection/_univariate_selection.py:113: RuntimeWarning: divide by zero encountered in divide\n",
      "  f = msb / msw\n"
     ]
    }
   ],
   "source": [
    "import pandas as pd\n",
    "from sklearn.compose import ColumnTransformer\n",
    "from sklearn.impute import SimpleImputer\n",
    "from sklearn.pipeline import Pipeline\n",
    "from sklearn.preprocessing import StandardScaler, OneHotEncoder\n",
    "from sklearn.ensemble import RandomForestClassifier\n",
    "from sklearn.model_selection import train_test_split\n",
    "from sklearn.feature_selection import SelectKBest, f_classif\n",
    "from sklearn.base import BaseEstimator, TransformerMixin\n",
    "\n",
    "# Example custom transformer for feature engineering\n",
    "class CustomFeatureEngineering(BaseEstimator, TransformerMixin):\n",
    "    def __init__(self, drop_columns=None):\n",
    "        self.drop_columns = drop_columns\n",
    "    \n",
    "    def fit(self, X, y=None):\n",
    "        return self\n",
    "    \n",
    "    def transform(self, X):\n",
    "        X = X.copy()\n",
    "        # Example: Creating a new feature based on existing features\n",
    "        X['new_feature'] = X['feature1'] * X['feature2']\n",
    "        \n",
    "        if self.drop_columns:\n",
    "            X.drop(self.drop_columns, axis=1, inplace=True)\n",
    "        \n",
    "        return X\n",
    "\n",
    "# Assume X is your feature set and y is your target variable\n",
    "# For demonstration, let's create a simple DataFrame\n",
    "data = {\n",
    "    'age': [25, 30, 35, 40],\n",
    "    'income': [50000, 60000, 70000, 80000],\n",
    "    'gender': ['male', 'female', 'female', 'male'],\n",
    "    'occupation': ['engineer', 'teacher', 'engineer', 'teacher'],\n",
    "    'feature1': [1, 2, 3, 4],\n",
    "    'feature2': [10, 20, 30, 40],\n",
    "    'unnecessary_feature': [5, 6, 7, 8]\n",
    "}\n",
    "X = pd.DataFrame(data)\n",
    "y = [0, 1, 0, 1]\n",
    "\n",
    "X_train, X_test, y_train, y_test = train_test_split(X, y, test_size=0.2, random_state=42)\n",
    "\n",
    "# Define the steps for the pipeline\n",
    "numeric_features = ['age', 'income']\n",
    "numeric_transformer = Pipeline(steps=[\n",
    "    ('imputer', SimpleImputer(strategy='median')),\n",
    "    ('scaler', StandardScaler())\n",
    "])\n",
    "\n",
    "categorical_features = ['gender', 'occupation']\n",
    "categorical_transformer = Pipeline(steps=[\n",
    "    ('imputer', SimpleImputer(strategy='constant', fill_value='missing')),\n",
    "    ('onehot', OneHotEncoder(handle_unknown='ignore'))\n",
    "])\n",
    "\n",
    "# Combine transformers into a ColumnTransformer\n",
    "preprocessor = ColumnTransformer(\n",
    "    transformers=[\n",
    "        ('num', numeric_transformer, numeric_features),\n",
    "        ('cat', categorical_transformer, categorical_features)\n",
    "    ])\n",
    "\n",
    "# Define the custom feature engineering step\n",
    "feature_engineering = CustomFeatureEngineering(drop_columns=['unnecessary_feature'])\n",
    "\n",
    "# Define the feature selection step\n",
    "feature_selection = SelectKBest(score_func=f_classif, k=5)\n",
    "\n",
    "# Combine all steps into a pipeline\n",
    "pipeline = Pipeline(steps=[\n",
    "    ('feature_engineering', feature_engineering),\n",
    "    ('preprocessor', preprocessor),\n",
    "    ('feature_selection', feature_selection),\n",
    "    ('classifier', RandomForestClassifier())\n",
    "])\n",
    "\n",
    "# Fit the pipeline on the training data\n",
    "pipeline.fit(X_train, y_train)\n",
    "\n",
    "# Make predictions\n",
    "y_pred = pipeline.predict(X_test)\n",
    "\n",
    "# Print the feature names after transformation\n",
    "print(pipeline.named_steps['preprocessor'].get_feature_names_out())\n"
   ]
  }
 ],
 "metadata": {
  "kernelspec": {
   "display_name": "base",
   "language": "python",
   "name": "python3"
  },
  "language_info": {
   "codemirror_mode": {
    "name": "ipython",
    "version": 3
   },
   "file_extension": ".py",
   "mimetype": "text/x-python",
   "name": "python",
   "nbconvert_exporter": "python",
   "pygments_lexer": "ipython3",
   "version": "3.11.9"
  }
 },
 "nbformat": 4,
 "nbformat_minor": 2
}
